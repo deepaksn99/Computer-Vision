{
 "cells": [
  {
   "cell_type": "markdown",
   "metadata": {},
   "source": [
    "# Computer Vision - Assignment 1"
   ]
  },
  {
   "cell_type": "code",
   "execution_count": 1,
   "metadata": {},
   "outputs": [],
   "source": [
    "import numpy as np\n",
    "import cv2 as cv\n",
    "import math"
   ]
  },
  {
   "cell_type": "code",
   "execution_count": 2,
   "metadata": {},
   "outputs": [],
   "source": [
    "image = cv.imread('im_1.jpg')"
   ]
  },
  {
   "cell_type": "code",
   "execution_count": 3,
   "metadata": {},
   "outputs": [],
   "source": [
    "height, width, channel = image.shape"
   ]
  },
  {
   "cell_type": "code",
   "execution_count": 4,
   "metadata": {},
   "outputs": [],
   "source": [
    "gauss_1 = np.zeros((9,9))\n",
    "gauss_3 = np.zeros((9,9))\n",
    "gauss_20= np.zeros((9,9))"
   ]
  },
  {
   "cell_type": "code",
   "execution_count": 5,
   "metadata": {},
   "outputs": [
    {
     "data": {
      "text/plain": [
       "(691, 1037, 3)"
      ]
     },
     "execution_count": 5,
     "metadata": {},
     "output_type": "execute_result"
    }
   ],
   "source": [
    "image = cv.resize(image,None, fx = 0.2, fy = 0.2, interpolation = cv.INTER_CUBIC);\n",
    "image.shape\n",
    "#image = cv.cvtColor(image,cv.COLOR_BGR2GRAY)"
   ]
  },
  {
   "cell_type": "code",
   "execution_count": 11,
   "metadata": {},
   "outputs": [
    {
     "data": {
      "text/plain": [
       "5184"
      ]
     },
     "execution_count": 11,
     "metadata": {},
     "output_type": "execute_result"
    }
   ],
   "source": [
    "image.shape[1]"
   ]
  },
  {
   "cell_type": "code",
   "execution_count": 6,
   "metadata": {},
   "outputs": [],
   "source": [
    "def gaussian(x,y,sigma):\n",
    "    return (math.exp(-(x**2 + y**2)/(2*sigma*sigma)))"
   ]
  },
  {
   "cell_type": "code",
   "execution_count": 7,
   "metadata": {},
   "outputs": [],
   "source": [
    "for i in range(9):\n",
    "    for j in range(9):\n",
    "        gauss_1[i][j] = gaussian(i-4,j-4,1)\n",
    "        gauss_3[i][j] = gaussian(i-4,j-4,3)\n",
    "        gauss_20[i][j] = gaussian(i-4,j-4,20)"
   ]
  },
  {
   "cell_type": "code",
   "execution_count": 8,
   "metadata": {},
   "outputs": [
    {
     "name": "stdout",
     "output_type": "stream",
     "text": [
      "1.0 0.367879441171 0.0183156388887 0.000123409804087 1.12535174719e-07\n",
      "1.0 0.894839316814 0.64118038843 0.367879441171 1.12535174719e-07\n"
     ]
    }
   ],
   "source": [
    "print(gauss_1[4][4], gauss_1[3,5], gauss_1[2,6],gauss_1[1,7],gauss_1[0,8])\n",
    "print(gauss_3[4][4], gauss_3[3,5], gauss_3[2,6],gauss_3[1,7],gauss_1[0,8])"
   ]
  },
  {
   "cell_type": "code",
   "execution_count": 9,
   "metadata": {},
   "outputs": [
    {
     "data": {
      "text/plain": [
       "array([  1.12535175e-07,   3.72665317e-06,   4.53999298e-05,\n",
       "         2.03468369e-04,   3.35462628e-04,   2.03468369e-04,\n",
       "         4.53999298e-05,   3.72665317e-06,   1.12535175e-07])"
      ]
     },
     "execution_count": 9,
     "metadata": {},
     "output_type": "execute_result"
    }
   ],
   "source": [
    "gauss_1[0]"
   ]
  },
  {
   "cell_type": "code",
   "execution_count": 10,
   "metadata": {
    "scrolled": true
   },
   "outputs": [
    {
     "data": {
      "text/plain": [
       "array([  0.00000000e+00,   4.00000000e-06,   4.50000000e-05,\n",
       "         2.03000000e-04,   3.35000000e-04,   2.03000000e-04,\n",
       "         4.50000000e-05,   4.00000000e-06,   0.00000000e+00])"
      ]
     },
     "execution_count": 10,
     "metadata": {},
     "output_type": "execute_result"
    }
   ],
   "source": [
    "np.around(gauss_1[0],6)"
   ]
  },
  {
   "cell_type": "code",
   "execution_count": 12,
   "metadata": {},
   "outputs": [
    {
     "data": {
      "text/plain": [
       "array([[[ 0.,  0.,  0.],\n",
       "        [ 0.,  0.,  0.],\n",
       "        [ 0.,  0.,  0.],\n",
       "        ..., \n",
       "        [ 0.,  0.,  0.],\n",
       "        [ 0.,  0.,  0.],\n",
       "        [ 0.,  0.,  0.]],\n",
       "\n",
       "       [[ 0.,  0.,  0.],\n",
       "        [ 0.,  0.,  0.],\n",
       "        [ 0.,  0.,  0.],\n",
       "        ..., \n",
       "        [ 0.,  0.,  0.],\n",
       "        [ 0.,  0.,  0.],\n",
       "        [ 0.,  0.,  0.]],\n",
       "\n",
       "       [[ 0.,  0.,  0.],\n",
       "        [ 0.,  0.,  0.],\n",
       "        [ 0.,  0.,  0.],\n",
       "        ..., \n",
       "        [ 0.,  0.,  0.],\n",
       "        [ 0.,  0.,  0.],\n",
       "        [ 0.,  0.,  0.]],\n",
       "\n",
       "       ..., \n",
       "       [[ 0.,  0.,  0.],\n",
       "        [ 0.,  0.,  0.],\n",
       "        [ 0.,  0.,  0.],\n",
       "        ..., \n",
       "        [ 0.,  0.,  0.],\n",
       "        [ 0.,  0.,  0.],\n",
       "        [ 0.,  0.,  0.]],\n",
       "\n",
       "       [[ 0.,  0.,  0.],\n",
       "        [ 0.,  0.,  0.],\n",
       "        [ 0.,  0.,  0.],\n",
       "        ..., \n",
       "        [ 0.,  0.,  0.],\n",
       "        [ 0.,  0.,  0.],\n",
       "        [ 0.,  0.,  0.]],\n",
       "\n",
       "       [[ 0.,  0.,  0.],\n",
       "        [ 0.,  0.,  0.],\n",
       "        [ 0.,  0.,  0.],\n",
       "        ..., \n",
       "        [ 0.,  0.,  0.],\n",
       "        [ 0.,  0.,  0.],\n",
       "        [ 0.,  0.,  0.]]])"
      ]
     },
     "execution_count": 12,
     "metadata": {},
     "output_type": "execute_result"
    }
   ],
   "source": [
    "np.zeros(image.shape)"
   ]
  },
  {
   "cell_type": "code",
   "execution_count": 277,
   "metadata": {},
   "outputs": [],
   "source": [
    "img_ = np.zeros(image.shape)\n",
    "temp = [0,0,0]\n",
    "for i1 in range(10,480):\n",
    "    for i2 in range(10, 643):\n",
    "        for i in range(9):\n",
    "            for j in range(9):\n",
    "                temp+= image[i1 - (4-i)][i2 - (4-j)]*gauss_1[i][j]\n",
    "        img_[i1-10][i2-10] = temp/(gauss_1.sum()); temp = [0,0,0]"
   ]
  },
  {
   "cell_type": "code",
   "execution_count": 278,
   "metadata": {},
   "outputs": [
    {
     "data": {
      "text/plain": [
       "True"
      ]
     },
     "execution_count": 278,
     "metadata": {},
     "output_type": "execute_result"
    }
   ],
   "source": [
    "cv.imwrite(\"Im_1_1.jpg\",img_)"
   ]
  },
  {
   "cell_type": "code",
   "execution_count": 279,
   "metadata": {},
   "outputs": [],
   "source": [
    "img_ = np.zeros((470, 643,3))\n",
    "temp = [0,0,0]\n",
    "for i1 in range(10,480):\n",
    "    for i2 in range(10, 643):\n",
    "        for i in range(9):\n",
    "            for j in range(9):\n",
    "                temp+= image[i1 - (4-i)][i2 - (4-j)]*gauss_3[i][j]\n",
    "        img_[i1-10][i2-10] = temp/(gauss_3.sum()); temp = [0,0,0]"
   ]
  },
  {
   "cell_type": "code",
   "execution_count": 280,
   "metadata": {},
   "outputs": [
    {
     "data": {
      "text/plain": [
       "True"
      ]
     },
     "execution_count": 280,
     "metadata": {},
     "output_type": "execute_result"
    }
   ],
   "source": [
    "cv.imwrite(\"Im_1_2.jpg\",img_)"
   ]
  },
  {
   "cell_type": "code",
   "execution_count": 281,
   "metadata": {},
   "outputs": [],
   "source": [
    "img_ = np.zeros((470, 643,3))\n",
    "temp = [0,0,0]\n",
    "for i1 in range(10,480):\n",
    "    for i2 in range(10, 643):\n",
    "        for i in range(9):\n",
    "            for j in range(9):\n",
    "                temp+= image[i1 - (4-i)][i2 - (4-j)]*gauss_20[i][j]\n",
    "        img_[i1-10][i2-10] = temp/(gauss_20.sum()); temp = [0,0,0]"
   ]
  },
  {
   "cell_type": "code",
   "execution_count": 282,
   "metadata": {},
   "outputs": [
    {
     "data": {
      "text/plain": [
       "True"
      ]
     },
     "execution_count": 282,
     "metadata": {},
     "output_type": "execute_result"
    }
   ],
   "source": [
    "cv.imwrite(\"Im_1_3.jpg\",img_)"
   ]
  },
  {
   "cell_type": "code",
   "execution_count": 283,
   "metadata": {},
   "outputs": [],
   "source": [
    "im_3 = cv.imread(\"Im_1_3.jpg\")\n",
    "im_2 = cv.imread(\"Im_1_2.jpg\")"
   ]
  },
  {
   "cell_type": "code",
   "execution_count": 289,
   "metadata": {},
   "outputs": [
    {
     "name": "stdout",
     "output_type": "stream",
     "text": [
      "[212 209 218] [211 209 221]\n"
     ]
    }
   ],
   "source": []
  },
  {
   "cell_type": "code",
   "execution_count": 227,
   "metadata": {},
   "outputs": [
    {
     "data": {
      "text/plain": [
       "1.1816193345522208e-05"
      ]
     },
     "execution_count": 227,
     "metadata": {},
     "output_type": "execute_result"
    }
   ],
   "source": [
    "gauss_1[i][j]*105"
   ]
  },
  {
   "cell_type": "code",
   "execution_count": 235,
   "metadata": {},
   "outputs": [
    {
     "data": {
      "text/plain": [
       "True"
      ]
     },
     "execution_count": 235,
     "metadata": {},
     "output_type": "execute_result"
    }
   ],
   "source": [
    "cv.imwrite('Gray_Laptop.jpg', image)"
   ]
  },
  {
   "cell_type": "code",
   "execution_count": 265,
   "metadata": {},
   "outputs": [
    {
     "data": {
      "text/plain": [
       "array([[  1.12535175e-07,   3.72665317e-06,   4.53999298e-05,\n",
       "          2.03468369e-04,   3.35462628e-04,   2.03468369e-04,\n",
       "          4.53999298e-05,   3.72665317e-06,   1.12535175e-07],\n",
       "       [  3.72665317e-06,   1.23409804e-04,   1.50343919e-03,\n",
       "          6.73794700e-03,   1.11089965e-02,   6.73794700e-03,\n",
       "          1.50343919e-03,   1.23409804e-04,   3.72665317e-06],\n",
       "       [  4.53999298e-05,   1.50343919e-03,   1.83156389e-02,\n",
       "          8.20849986e-02,   1.35335283e-01,   8.20849986e-02,\n",
       "          1.83156389e-02,   1.50343919e-03,   4.53999298e-05],\n",
       "       [  2.03468369e-04,   6.73794700e-03,   8.20849986e-02,\n",
       "          3.67879441e-01,   6.06530660e-01,   3.67879441e-01,\n",
       "          8.20849986e-02,   6.73794700e-03,   2.03468369e-04],\n",
       "       [  3.35462628e-04,   1.11089965e-02,   1.35335283e-01,\n",
       "          6.06530660e-01,   1.00000000e+00,   6.06530660e-01,\n",
       "          1.35335283e-01,   1.11089965e-02,   3.35462628e-04],\n",
       "       [  2.03468369e-04,   6.73794700e-03,   8.20849986e-02,\n",
       "          3.67879441e-01,   6.06530660e-01,   3.67879441e-01,\n",
       "          8.20849986e-02,   6.73794700e-03,   2.03468369e-04],\n",
       "       [  4.53999298e-05,   1.50343919e-03,   1.83156389e-02,\n",
       "          8.20849986e-02,   1.35335283e-01,   8.20849986e-02,\n",
       "          1.83156389e-02,   1.50343919e-03,   4.53999298e-05],\n",
       "       [  3.72665317e-06,   1.23409804e-04,   1.50343919e-03,\n",
       "          6.73794700e-03,   1.11089965e-02,   6.73794700e-03,\n",
       "          1.50343919e-03,   1.23409804e-04,   3.72665317e-06],\n",
       "       [  1.12535175e-07,   3.72665317e-06,   4.53999298e-05,\n",
       "          2.03468369e-04,   3.35462628e-04,   2.03468369e-04,\n",
       "          4.53999298e-05,   3.72665317e-06,   1.12535175e-07]])"
      ]
     },
     "execution_count": 265,
     "metadata": {},
     "output_type": "execute_result"
    }
   ],
   "source": [
    "gauss_1"
   ]
  },
  {
   "cell_type": "code",
   "execution_count": 327,
   "metadata": {},
   "outputs": [],
   "source": [
    "## Difference of Gaussian Filter Underway xD\n",
    "dog_1 = np.zeros((11,11))\n",
    "dog_2 = np.zeros((11,11))\n",
    "dog = np.zeros((11,11))\n",
    "\n",
    "\n",
    "for i in range(11):\n",
    "    for j in range(11):\n",
    "        dog_1[i][j] = (1/(2*math.pi*25))*gaussian(i-4, j-4, 5)\n",
    "        dog_2[i][j] = (1/(2*math.pi*9))*gaussian(i-4, j-4, 3)\n",
    "\n",
    "for i in range(11):\n",
    "    for j in range(11):\n",
    "        dog[i][j] = dog_1[i][j] - dog_2[i][j]\n"
   ]
  },
  {
   "cell_type": "code",
   "execution_count": 378,
   "metadata": {},
   "outputs": [],
   "source": [
    "image = cv.imread('im_1.jpg')"
   ]
  },
  {
   "cell_type": "code",
   "execution_count": 379,
   "metadata": {},
   "outputs": [],
   "source": [
    "image = cv.cvtColor(image,cv.COLOR_BGR2GRAY)"
   ]
  },
  {
   "cell_type": "code",
   "execution_count": 380,
   "metadata": {},
   "outputs": [],
   "source": [
    "image = cv.resize(image, None, fx = 0.2, fy = 0.2, interpolation  = cv.INTER_CUBIC)"
   ]
  },
  {
   "cell_type": "code",
   "execution_count": 381,
   "metadata": {},
   "outputs": [
    {
     "data": {
      "text/plain": [
       "(691, 1037)"
      ]
     },
     "execution_count": 381,
     "metadata": {},
     "output_type": "execute_result"
    }
   ],
   "source": [
    "image.shape"
   ]
  },
  {
   "cell_type": "code",
   "execution_count": 384,
   "metadata": {
    "scrolled": true
   },
   "outputs": [
    {
     "name": "stdout",
     "output_type": "stream",
     "text": [
      "12\n",
      "13\n",
      "14\n",
      "15\n",
      "16\n",
      "17\n",
      "18\n",
      "19\n",
      "20\n",
      "21\n",
      "22\n",
      "23\n",
      "24\n",
      "25\n",
      "26\n",
      "27\n",
      "28\n",
      "29\n",
      "30\n",
      "31\n",
      "32\n",
      "33\n",
      "34\n",
      "35\n",
      "36\n",
      "37\n",
      "38\n",
      "39\n",
      "40\n",
      "41\n",
      "42\n",
      "43\n",
      "44\n",
      "45\n",
      "46\n",
      "47\n",
      "48\n",
      "49\n",
      "50\n",
      "51\n",
      "52\n",
      "53\n",
      "54\n",
      "55\n",
      "56\n",
      "57\n",
      "58\n",
      "59\n",
      "60\n",
      "61\n",
      "62\n",
      "63\n",
      "64\n",
      "65\n",
      "66\n",
      "67\n",
      "68\n",
      "69\n",
      "70\n",
      "71\n",
      "72\n",
      "73\n",
      "74\n",
      "75\n",
      "76\n",
      "77\n",
      "78\n",
      "79\n",
      "80\n",
      "81\n",
      "82\n",
      "83\n",
      "84\n",
      "85\n",
      "86\n",
      "87\n",
      "88\n",
      "89\n",
      "90\n",
      "91\n",
      "92\n",
      "93\n",
      "94\n",
      "95\n",
      "96\n",
      "97\n",
      "98\n",
      "99\n",
      "100\n",
      "101\n",
      "102\n",
      "103\n",
      "104\n",
      "105\n",
      "106\n",
      "107\n",
      "108\n",
      "109\n",
      "110\n",
      "111\n",
      "112\n",
      "113\n",
      "114\n",
      "115\n",
      "116\n",
      "117\n",
      "118\n",
      "119\n",
      "120\n",
      "121\n",
      "122\n",
      "123\n",
      "124\n",
      "125\n",
      "126\n",
      "127\n",
      "128\n",
      "129\n",
      "130\n",
      "131\n",
      "132\n",
      "133\n",
      "134\n",
      "135\n",
      "136\n",
      "137\n",
      "138\n",
      "139\n",
      "140\n",
      "141\n",
      "142\n",
      "143\n",
      "144\n",
      "145\n",
      "146\n",
      "147\n",
      "148\n",
      "149\n",
      "150\n",
      "151\n",
      "152\n",
      "153\n",
      "154\n",
      "155\n",
      "156\n",
      "157\n",
      "158\n",
      "159\n",
      "160\n",
      "161\n",
      "162\n",
      "163\n",
      "164\n",
      "165\n",
      "166\n",
      "167\n",
      "168\n",
      "169\n",
      "170\n",
      "171\n",
      "172\n",
      "173\n",
      "174\n",
      "175\n",
      "176\n",
      "177\n",
      "178\n",
      "179\n",
      "180\n",
      "181\n",
      "182\n",
      "183\n",
      "184\n",
      "185\n",
      "186\n",
      "187\n",
      "188\n",
      "189\n",
      "190\n",
      "191\n",
      "192\n",
      "193\n",
      "194\n",
      "195\n",
      "196\n",
      "197\n",
      "198\n",
      "199\n",
      "200\n",
      "201\n",
      "202\n",
      "203\n",
      "204\n",
      "205\n",
      "206\n",
      "207\n",
      "208\n",
      "209\n",
      "210\n",
      "211\n",
      "212\n",
      "213\n",
      "214\n",
      "215\n",
      "216\n",
      "217\n",
      "218\n",
      "219\n",
      "220\n",
      "221\n",
      "222\n",
      "223\n",
      "224\n",
      "225\n",
      "226\n",
      "227\n",
      "228\n",
      "229\n",
      "230\n",
      "231\n",
      "232\n",
      "233\n",
      "234\n",
      "235\n",
      "236\n",
      "237\n",
      "238\n",
      "239\n",
      "240\n",
      "241\n",
      "242\n",
      "243\n",
      "244\n",
      "245\n",
      "246\n",
      "247\n",
      "248\n",
      "249\n",
      "250\n",
      "251\n",
      "252\n",
      "253\n",
      "254\n",
      "255\n",
      "256\n",
      "257\n",
      "258\n",
      "259\n",
      "260\n",
      "261\n",
      "262\n",
      "263\n",
      "264\n",
      "265\n",
      "266\n",
      "267\n",
      "268\n",
      "269\n",
      "270\n",
      "271\n",
      "272\n",
      "273\n",
      "274\n",
      "275\n",
      "276\n",
      "277\n",
      "278\n",
      "279\n",
      "280\n",
      "281\n",
      "282\n",
      "283\n",
      "284\n",
      "285\n",
      "286\n",
      "287\n",
      "288\n",
      "289\n",
      "290\n",
      "291\n",
      "292\n",
      "293\n",
      "294\n",
      "295\n",
      "296\n",
      "297\n",
      "298\n",
      "299\n",
      "300\n",
      "301\n",
      "302\n",
      "303\n",
      "304\n",
      "305\n",
      "306\n",
      "307\n",
      "308\n",
      "309\n",
      "310\n",
      "311\n",
      "312\n",
      "313\n",
      "314\n",
      "315\n",
      "316\n",
      "317\n",
      "318\n",
      "319\n",
      "320\n",
      "321\n",
      "322\n",
      "323\n",
      "324\n",
      "325\n",
      "326\n",
      "327\n",
      "328\n",
      "329\n",
      "330\n",
      "331\n",
      "332\n",
      "333\n",
      "334\n",
      "335\n",
      "336\n",
      "337\n",
      "338\n",
      "339\n",
      "340\n",
      "341\n",
      "342\n",
      "343\n",
      "344\n",
      "345\n",
      "346\n",
      "347\n",
      "348\n",
      "349\n",
      "350\n",
      "351\n",
      "352\n",
      "353\n",
      "354\n",
      "355\n",
      "356\n",
      "357\n",
      "358\n",
      "359\n",
      "360\n",
      "361\n",
      "362\n",
      "363\n",
      "364\n",
      "365\n",
      "366\n",
      "367\n",
      "368\n",
      "369\n",
      "370\n",
      "371\n",
      "372\n",
      "373\n",
      "374\n",
      "375\n",
      "376\n",
      "377\n",
      "378\n",
      "379\n",
      "380\n",
      "381\n",
      "382\n",
      "383\n",
      "384\n",
      "385\n",
      "386\n",
      "387\n",
      "388\n",
      "389\n",
      "390\n",
      "391\n",
      "392\n",
      "393\n",
      "394\n",
      "395\n",
      "396\n",
      "397\n",
      "398\n",
      "399\n",
      "400\n",
      "401\n",
      "402\n",
      "403\n",
      "404\n",
      "405\n",
      "406\n",
      "407\n",
      "408\n",
      "409\n",
      "410\n",
      "411\n",
      "412\n",
      "413\n",
      "414\n",
      "415\n",
      "416\n",
      "417\n",
      "418\n",
      "419\n",
      "420\n",
      "421\n",
      "422\n",
      "423\n",
      "424\n",
      "425\n",
      "426\n",
      "427\n",
      "428\n",
      "429\n",
      "430\n",
      "431\n",
      "432\n",
      "433\n",
      "434\n",
      "435\n",
      "436\n",
      "437\n",
      "438\n",
      "439\n",
      "440\n",
      "441\n",
      "442\n",
      "443\n",
      "444\n",
      "445\n",
      "446\n",
      "447\n",
      "448\n",
      "449\n",
      "450\n",
      "451\n",
      "452\n",
      "453\n",
      "454\n",
      "455\n",
      "456\n",
      "457\n",
      "458\n",
      "459\n",
      "460\n",
      "461\n",
      "462\n",
      "463\n",
      "464\n",
      "465\n",
      "466\n",
      "467\n",
      "468\n",
      "469\n",
      "470\n",
      "471\n",
      "472\n",
      "473\n",
      "474\n",
      "475\n",
      "476\n",
      "477\n",
      "478\n",
      "479\n",
      "480\n",
      "481\n",
      "482\n",
      "483\n",
      "484\n",
      "485\n",
      "486\n",
      "487\n",
      "488\n",
      "489\n",
      "490\n",
      "491\n",
      "492\n",
      "493\n",
      "494\n",
      "495\n",
      "496\n",
      "497\n",
      "498\n",
      "499\n",
      "500\n",
      "501\n",
      "502\n",
      "503\n",
      "504\n",
      "505\n",
      "506\n",
      "507\n",
      "508\n",
      "509\n",
      "510\n",
      "511\n",
      "512\n",
      "513\n",
      "514\n",
      "515\n",
      "516\n",
      "517\n",
      "518\n",
      "519\n",
      "520\n",
      "521\n",
      "522\n",
      "523\n",
      "524\n",
      "525\n",
      "526\n",
      "527\n",
      "528\n",
      "529\n",
      "530\n",
      "531\n",
      "532\n",
      "533\n",
      "534\n",
      "535\n",
      "536\n",
      "537\n",
      "538\n",
      "539\n",
      "540\n",
      "541\n",
      "542\n",
      "543\n",
      "544\n",
      "545\n",
      "546\n",
      "547\n",
      "548\n",
      "549\n",
      "550\n",
      "551\n",
      "552\n",
      "553\n",
      "554\n",
      "555\n",
      "556\n",
      "557\n",
      "558\n",
      "559\n",
      "560\n",
      "561\n",
      "562\n",
      "563\n",
      "564\n",
      "565\n",
      "566\n",
      "567\n",
      "568\n",
      "569\n",
      "570\n",
      "571\n",
      "572\n",
      "573\n",
      "574\n",
      "575\n",
      "576\n",
      "577\n",
      "578\n",
      "579\n",
      "580\n",
      "581\n",
      "582\n",
      "583\n",
      "584\n",
      "585\n",
      "586\n",
      "587\n",
      "588\n",
      "589\n",
      "590\n",
      "591\n",
      "592\n",
      "593\n",
      "594\n",
      "595\n",
      "596\n",
      "597\n",
      "598\n",
      "599\n",
      "600\n",
      "601\n",
      "602\n",
      "603\n",
      "604\n",
      "605\n",
      "606\n",
      "607\n",
      "608\n",
      "609\n",
      "610\n",
      "611\n",
      "612\n",
      "613\n",
      "614\n",
      "615\n",
      "616\n",
      "617\n",
      "618\n",
      "619\n",
      "620\n",
      "621\n",
      "622\n",
      "623\n",
      "624\n",
      "625\n",
      "626\n",
      "627\n",
      "628\n",
      "629\n",
      "630\n",
      "631\n",
      "632\n",
      "633\n",
      "634\n",
      "635\n",
      "636\n",
      "637\n",
      "638\n",
      "639\n",
      "640\n",
      "641\n",
      "642\n",
      "643\n",
      "644\n",
      "645\n",
      "646\n",
      "647\n",
      "648\n",
      "649\n",
      "650\n",
      "651\n",
      "652\n",
      "653\n",
      "654\n",
      "655\n",
      "656\n",
      "657\n",
      "658\n",
      "659\n",
      "660\n",
      "661\n",
      "662\n",
      "663\n",
      "664\n",
      "665\n",
      "666\n",
      "667\n",
      "668\n",
      "669\n",
      "670\n",
      "671\n",
      "672\n",
      "673\n",
      "674\n",
      "675\n",
      "676\n",
      "677\n",
      "678\n"
     ]
    }
   ],
   "source": [
    "img_ = np.zeros((667,1013))\n",
    "temp = 0\n",
    "for x in range(12, 679):\n",
    "    for y in range(12, 1025):\n",
    "        for i in range(11):\n",
    "            for j in range(11):\n",
    "                temp+= image[x - (4-i)][y - (4-j)]*dog[i][j]\n",
    "        img_[x-12][y-12] = temp/(dog.sum()); temp =0\n",
    "    print(x)\n",
    "        "
   ]
  },
  {
   "cell_type": "code",
   "execution_count": 386,
   "metadata": {},
   "outputs": [
    {
     "data": {
      "text/plain": [
       "True"
      ]
     },
     "execution_count": 386,
     "metadata": {},
     "output_type": "execute_result"
    }
   ],
   "source": [
    "cv.imwrite('test-god-save_12.jpg',img_)"
   ]
  },
  {
   "cell_type": "code",
   "execution_count": 411,
   "metadata": {},
   "outputs": [
    {
     "name": "stdout",
     "output_type": "stream",
     "text": [
      "0 1 0 -0.00054822107233 0.000368036207963\n",
      "0 8 7 0.000368036207963 -0.00054822107233\n",
      "1 0 -1 -0.00054822107233 0.00113672136628\n",
      "1 9 8 0.000550717793932 -0.00054822107233\n",
      "2 0 -1 -0.00155402018666 0.000944149632004\n",
      "2 9 8 3.35599753392e-05 -0.00155402018666\n",
      "3 0 -1 -0.00234591287538 0.000773480944145\n",
      "3 10 9 0.000773480944145 -0.000386387276308\n",
      "4 0 -1 -0.0026472531198 0.000705507848125\n",
      "4 10 9 0.000705507848125 -0.00054822107233\n",
      "5 0 -1 -0.00234591287538 0.000773480944145\n",
      "5 10 9 0.000773480944145 -0.000386387276308\n",
      "6 0 -1 -0.00155402018666 0.000944149632004\n",
      "6 9 8 3.35599753392e-05 -0.00155402018666\n",
      "7 0 -1 -0.00054822107233 0.00113672136628\n",
      "7 9 8 0.000550717793932 -0.00054822107233\n",
      "8 1 0 -0.00054822107233 0.000368036207963\n",
      "8 8 7 0.000368036207963 -0.00054822107233\n",
      "9 3 2 -0.000386387276308 3.35599753392e-05\n",
      "9 6 5 3.35599753392e-05 -0.000386387276308\n"
     ]
    }
   ],
   "source": [
    "dog.max()\n",
    "for i in range(len(dog)):\n",
    "    for j in range(len(dog[i])):\n",
    "        if dog[i,j]*dog[i,j-1]<0:\n",
    "            print(i,j,j-1, dog[i,j], dog[i,j-1])"
   ]
  },
  {
   "cell_type": "code",
   "execution_count": 400,
   "metadata": {},
   "outputs": [
    {
     "data": {
      "text/plain": [
       "array([[  3.68036208e-04,  -5.48221072e-04,  -1.55402019e-03,\n",
       "         -2.34591288e-03,  -2.64725312e-03,  -2.34591288e-03,\n",
       "         -1.55402019e-03,  -5.48221072e-04,   3.68036208e-04,\n",
       "          9.91069112e-04,   1.26626656e-03],\n",
       "       [ -5.48221072e-04,  -2.06399140e-03,  -3.67989597e-03,\n",
       "         -4.93398626e-03,  -5.40832164e-03,  -4.93398626e-03,\n",
       "         -3.67989597e-03,  -2.06399140e-03,  -5.48221072e-04,\n",
       "          5.50717794e-04,   1.13672137e-03],\n",
       "       [ -1.55402019e-03,  -3.67989597e-03,  -5.91364284e-03,\n",
       "         -7.63455047e-03,  -8.28340502e-03,  -7.63455047e-03,\n",
       "         -5.91364284e-03,  -3.67989597e-03,  -1.55402019e-03,\n",
       "          3.35599753e-05,   9.44149632e-04],\n",
       "       [ -2.34591288e-03,  -4.93398626e-03,  -7.63455047e-03,\n",
       "         -9.70765785e-03,  -1.04880976e-02,  -9.70765785e-03,\n",
       "         -7.63455047e-03,  -4.93398626e-03,  -2.34591288e-03,\n",
       "         -3.86387276e-04,   7.73480944e-04],\n",
       "       [ -2.64725312e-03,  -5.40832164e-03,  -8.28340502e-03,\n",
       "         -1.04880976e-02,  -1.13176848e-02,  -1.04880976e-02,\n",
       "         -8.28340502e-03,  -5.40832164e-03,  -2.64725312e-03,\n",
       "         -5.48221072e-04,   7.05507848e-04],\n",
       "       [ -2.34591288e-03,  -4.93398626e-03,  -7.63455047e-03,\n",
       "         -9.70765785e-03,  -1.04880976e-02,  -9.70765785e-03,\n",
       "         -7.63455047e-03,  -4.93398626e-03,  -2.34591288e-03,\n",
       "         -3.86387276e-04,   7.73480944e-04],\n",
       "       [ -1.55402019e-03,  -3.67989597e-03,  -5.91364284e-03,\n",
       "         -7.63455047e-03,  -8.28340502e-03,  -7.63455047e-03,\n",
       "         -5.91364284e-03,  -3.67989597e-03,  -1.55402019e-03,\n",
       "          3.35599753e-05,   9.44149632e-04],\n",
       "       [ -5.48221072e-04,  -2.06399140e-03,  -3.67989597e-03,\n",
       "         -4.93398626e-03,  -5.40832164e-03,  -4.93398626e-03,\n",
       "         -3.67989597e-03,  -2.06399140e-03,  -5.48221072e-04,\n",
       "          5.50717794e-04,   1.13672137e-03],\n",
       "       [  3.68036208e-04,  -5.48221072e-04,  -1.55402019e-03,\n",
       "         -2.34591288e-03,  -2.64725312e-03,  -2.34591288e-03,\n",
       "         -1.55402019e-03,  -5.48221072e-04,   3.68036208e-04,\n",
       "          9.91069112e-04,   1.26626656e-03],\n",
       "       [  9.91069112e-04,   5.50717794e-04,   3.35599753e-05,\n",
       "         -3.86387276e-04,  -5.48221072e-04,  -3.86387276e-04,\n",
       "          3.35599753e-05,   5.50717794e-04,   9.91069112e-04,\n",
       "          1.24247091e-03,   1.28273063e-03],\n",
       "       [  1.26626656e-03,   1.13672137e-03,   9.44149632e-04,\n",
       "          7.73480944e-04,   7.05507848e-04,   7.73480944e-04,\n",
       "          9.44149632e-04,   1.13672137e-03,   1.26626656e-03,\n",
       "          1.28273063e-03,   1.18443735e-03]])"
      ]
     },
     "execution_count": 400,
     "metadata": {},
     "output_type": "execute_result"
    }
   ],
   "source": []
  },
  {
   "cell_type": "code",
   "execution_count": 355,
   "metadata": {
    "scrolled": true
   },
   "outputs": [
    {
     "data": {
      "text/plain": [
       "96.110283495817669"
      ]
     },
     "execution_count": 355,
     "metadata": {},
     "output_type": "execute_result"
    }
   ],
   "source": [
    "img_.mean()"
   ]
  },
  {
   "cell_type": "code",
   "execution_count": 398,
   "metadata": {},
   "outputs": [],
   "source": [
    "for i in range(len(img_)):\n",
    "    for j in range(len(img_[0])):\n",
    "        try:\n",
    "            if img_[i,j]==0 or (img_[i-1,j]>0 and img_[i,j]<0) or (img_[i-1,j]<0 and img_[i,j]>0) or (img_[i,j]>0 and img_[i,j]<0+1) or (img_[i,j]>0 and img_[i+1,j]<0): \n",
    "                print(i,j)\n",
    "        except:\n",
    "            continue"
   ]
  },
  {
   "cell_type": "code",
   "execution_count": 396,
   "metadata": {},
   "outputs": [
    {
     "data": {
      "text/plain": [
       "0"
      ]
     },
     "execution_count": 396,
     "metadata": {},
     "output_type": "execute_result"
    }
   ],
   "source": []
  },
  {
   "cell_type": "code",
   "execution_count": 397,
   "metadata": {},
   "outputs": [
    {
     "ename": "NameError",
     "evalue": "name 'img' is not defined",
     "output_type": "error",
     "traceback": [
      "\u001b[0;31m---------------------------------------------------------------------------\u001b[0m",
      "\u001b[0;31mNameError\u001b[0m                                 Traceback (most recent call last)",
      "\u001b[0;32m<ipython-input-397-77a7949ba908>\u001b[0m in \u001b[0;36m<module>\u001b[0;34m()\u001b[0m\n\u001b[0;32m----> 1\u001b[0;31m \u001b[0mimg\u001b[0m\u001b[0;34m\u001b[0m\u001b[0m\n\u001b[0m",
      "\u001b[0;31mNameError\u001b[0m: name 'img' is not defined"
     ]
    }
   ],
   "source": [
    "img"
   ]
  },
  {
   "cell_type": "code",
   "execution_count": 15,
   "metadata": {},
   "outputs": [],
   "source": [
    "import numpy as np\n",
    "import cv2 as cv\n",
    "arr = np.array([[1,2,3], [4,5,6]])"
   ]
  },
  {
   "cell_type": "code",
   "execution_count": 20,
   "metadata": {},
   "outputs": [
    {
     "ename": "error",
     "evalue": "OpenCV(3.4.2) /tmp/build/80754af9/opencv-suite_1535558553474/work/modules/highgui/src/window.cpp:632: error: (-2:Unspecified error) The function is not implemented. Rebuild the library with Windows, GTK+ 2.x or Carbon support. If you are on Ubuntu or Debian, install libgtk2.0-dev and pkg-config, then re-run cmake or configure script in function 'cvShowImage'\n",
     "output_type": "error",
     "traceback": [
      "\u001b[0;31m---------------------------------------------------------------------------\u001b[0m",
      "\u001b[0;31merror\u001b[0m                                     Traceback (most recent call last)",
      "\u001b[0;32m<ipython-input-20-4b70d3618900>\u001b[0m in \u001b[0;36m<module>\u001b[0;34m()\u001b[0m\n\u001b[0;32m----> 1\u001b[0;31m \u001b[0mcv\u001b[0m\u001b[0;34m.\u001b[0m\u001b[0mimshow\u001b[0m\u001b[0;34m(\u001b[0m\u001b[0;34m'img'\u001b[0m\u001b[0;34m,\u001b[0m\u001b[0marr\u001b[0m\u001b[0;34m)\u001b[0m\u001b[0;34m\u001b[0m\u001b[0m\n\u001b[0m",
      "\u001b[0;31merror\u001b[0m: OpenCV(3.4.2) /tmp/build/80754af9/opencv-suite_1535558553474/work/modules/highgui/src/window.cpp:632: error: (-2:Unspecified error) The function is not implemented. Rebuild the library with Windows, GTK+ 2.x or Carbon support. If you are on Ubuntu or Debian, install libgtk2.0-dev and pkg-config, then re-run cmake or configure script in function 'cvShowImage'\n"
     ]
    }
   ],
   "source": [
    "cv.imshow('img',arr)"
   ]
  },
  {
   "cell_type": "code",
   "execution_count": 18,
   "metadata": {},
   "outputs": [],
   "source": [
    "import cv2 as cv"
   ]
  },
  {
   "cell_type": "code",
   "execution_count": 19,
   "metadata": {},
   "outputs": [
    {
     "data": {
      "text/plain": [
       "'/home/deepak/anaconda3/lib/python3.6/site-packages/cv2.cpython-36m-x86_64-linux-gnu.so'"
      ]
     },
     "execution_count": 19,
     "metadata": {},
     "output_type": "execute_result"
    }
   ],
   "source": [
    "cv.__file__"
   ]
  },
  {
   "cell_type": "code",
   "execution_count": 11,
   "metadata": {},
   "outputs": [
    {
     "name": "stdout",
     "output_type": "stream",
     "text": [
      "/home/deepak/.local/share/jupyter\n"
     ]
    }
   ],
   "source": [
    "from jupyter_core.paths import jupyter_data_dir\n",
    "print(jupyter_data_dir())\n"
   ]
  },
  {
   "cell_type": "code",
   "execution_count": 79,
   "metadata": {},
   "outputs": [
    {
     "name": "stdout",
     "output_type": "stream",
     "text": [
      "The dimensions of the image are : (2448, 3264)\n",
      "The resized image has dimensions  (367, 490)\n",
      "Minimum is, Maximum is  0.0 246.3815861508651\n",
      "(367, 490)\n"
     ]
    },
    {
     "data": {
      "text/plain": [
       "True"
      ]
     },
     "execution_count": 79,
     "metadata": {},
     "output_type": "execute_result"
    }
   ],
   "source": [
    "#Implementation of Difference of Gaussian Filter\n",
    "\n",
    "import numpy as np \n",
    "import cv2 as cv\n",
    "import math\n",
    "\n",
    "# Initialise both the filters to zero\n",
    "dog_1 = np.zeros((11,11))\n",
    "dog_2 = np.zeros((11,11))\n",
    "diff_of_gauss = np.zeros((11,11))\n",
    "\n",
    "sigma_1 = 5/(2**0.5)\n",
    "sigma_2 = 5*2**0.5\n",
    "# Define the Gaussian with sigma included ... In the previous case, I had normalised the Gaussian to be set to 1.\n",
    "def gaussian(x,y,sigma):\n",
    "\treturn ((1/(2*math.pi*sigma**2))*math.exp(-(x**2 + y**2)/(2*sigma*sigma)))\n",
    "\n",
    "image = cv.imread('img1.jpg')\n",
    "image = cv.cvtColor(image,cv.COLOR_BGR2GRAY)\n",
    "print('The dimensions of the image are :',image.shape)\n",
    "\n",
    "# Image resizing to make processing faster\n",
    "image = cv.resize(image,None, fx = 0.15, fy = 0.15, interpolation = cv.INTER_CUBIC);\n",
    "print(\"The resized image has dimensions \",image.shape)\n",
    "\n",
    "\n",
    "\n",
    "\n",
    "for i in range(11):\n",
    "    for j in range(11):\n",
    "        dog_1[i][j] = (1/(2*math.pi*sigma_1**2))*gaussian(i-5, j-5, sigma_1)\n",
    "        dog_2[i][j] = (1/(2*math.pi*sigma_2**2))*gaussian(i-5, j-5, sigma_2)\n",
    "\n",
    "for i in range(11):\n",
    "    for j in range(11):\n",
    "        diff_of_gauss[i][j] = dog_1[i][j] - dog_2[i][j]\n",
    "\n",
    "# Initializing a 2D Array to accommodate for zero padding for the corner pixels..\n",
    "shap = (image.shape[0]+8, image.shape[1]+8)\n",
    "img_ = np.zeros(shap)\n",
    "temp = 0\n",
    "# Make sure that this has the value of our original image, with padded zeros\n",
    "for i in range(5,shap[0]-5):\n",
    "\tfor j in range(5, shap[1]-5):\n",
    "\t\timg_[i][j]  = image[i-5][j-5]\n",
    "\n",
    "# Final Image to be shown or saved ... Both are done in this implementation\n",
    "image_dog = np.zeros(image.shape)\n",
    "\n",
    "# Convolution of the Image \n",
    "for i1 in range(5,shap[0]-5):\n",
    "\tfor i2 in range(5,shap[1]-5):\n",
    "\t\tfor i in range(11):\n",
    "\t\t\tfor j in range(11):\n",
    "\t\t\t\ttemp+= img_[i1-5+i][i2-5+j]*diff_of_gauss[i][j]\n",
    "\t\t#print(temp)\n",
    "\t\timage_dog[i1-5][i2-5] = temp/diff_of_gauss.sum()\n",
    "\t\ttemp = 0\n",
    "\n",
    "print('Minimum is, Maximum is ',image_dog.min(), image_dog.max())\n",
    "# Saving the image after the Difference of Gaussian Filter is Performed\n",
    "cv.imwrite('DiffofGauss_.jpg',image_dog)\n",
    "\n",
    "# Now we generate a binary image after perfoming the DOG Operation\n",
    "image_final = np.zeros(image.shape)\n",
    "print(image.shape)\n",
    "for i in range((image.shape[0])):\n",
    "\tfor j in range((image.shape[1])):\n",
    "\t\ttry:\n",
    "\t\t\tif image_dog[i][j]==0:\n",
    "\t\t\t\timage_final[i][j] = 255\n",
    "\t\texcept:\n",
    "\t\t\tcontinue\n",
    "cv.imwrite('Binary_1_.jpg', image_final)\n"
   ]
  },
  {
   "cell_type": "code",
   "execution_count": 29,
   "metadata": {},
   "outputs": [],
   "source": [
    "import matplotlib.pyplot as plt"
   ]
  },
  {
   "cell_type": "code",
   "execution_count": 68,
   "metadata": {},
   "outputs": [
    {
     "data": {
      "text/plain": [
       "array([[ 36.3101227 ,  49.71184411,  47.9600869 , ...,  84.34044512,\n",
       "          0.        ,   0.        ],\n",
       "       [ 47.70113835,  65.47122769,  64.36814637, ..., 115.15559071,\n",
       "          0.        ,   0.        ],\n",
       "       [ 49.19537279,  67.36480932,  67.38780034, ..., 119.59935101,\n",
       "          0.        ,   0.        ],\n",
       "       ...,\n",
       "       [ 56.83115733,  77.05516793,  79.37492016, ...,  62.04716063,\n",
       "          0.        ,   0.        ],\n",
       "       [  0.        ,   0.        ,   0.        , ...,   0.        ,\n",
       "          0.        ,   0.        ],\n",
       "       [  0.        ,   0.        ,   0.        , ...,   0.        ,\n",
       "          0.        ,   0.        ]])"
      ]
     },
     "execution_count": 68,
     "metadata": {},
     "output_type": "execute_result"
    }
   ],
   "source": [
    "image_dog"
   ]
  },
  {
   "cell_type": "code",
   "execution_count": 65,
   "metadata": {},
   "outputs": [
    {
     "data": {
      "text/plain": [
       "True"
      ]
     },
     "execution_count": 65,
     "metadata": {},
     "output_type": "execute_result"
    }
   ],
   "source": [
    "dog_1[10][10] == dog_1[0][0]"
   ]
  },
  {
   "cell_type": "code",
   "execution_count": 75,
   "metadata": {},
   "outputs": [
    {
     "data": {
      "text/plain": [
       "1.5794289302022203e-05"
      ]
     },
     "execution_count": 75,
     "metadata": {},
     "output_type": "execute_result"
    }
   ],
   "source": [
    "diff_of_gauss.min()"
   ]
  },
  {
   "cell_type": "code",
   "execution_count": 77,
   "metadata": {},
   "outputs": [
    {
     "data": {
      "text/plain": [
       "0.0"
      ]
     },
     "execution_count": 77,
     "metadata": {},
     "output_type": "execute_result"
    }
   ],
   "source": [
    "image_final.min()"
   ]
  },
  {
   "cell_type": "code",
   "execution_count": 119,
   "metadata": {
    "scrolled": false
   },
   "outputs": [
    {
     "name": "stdout",
     "output_type": "stream",
     "text": [
      "The dimensions of the image are : (2448, 3264)\n",
      "The resized image has dimensions  (734, 979)\n",
      "-0.04527073726058006\n",
      "-0.045270737\n",
      "-0.045270737\n",
      "(734, 979)\n"
     ]
    }
   ],
   "source": [
    "## Implementation of Difference of Gaussian Filter\n",
    "\n",
    "import numpy as np \n",
    "import cv2 as cv\n",
    "import math\n",
    "\n",
    "# Initialise both the filters to zero\n",
    "dog_1 = np.zeros((11,11))\n",
    "dog_2 = np.zeros((11,11))\n",
    "diff_of_gauss = np.zeros((11,11))\n",
    "\n",
    "sigma_1 = 2\n",
    "sigma_2 = 1\n",
    "# Define the Gaussian with sigma included ... In the previous case, I had normalised the Gaussian to be set to 1.\n",
    "def gaussian(x,y,sigma):\n",
    "\treturn ((1/(2*math.pi*sigma**2))*math.exp(-(x**2 + y**2)/(2*sigma**2)))\n",
    "\n",
    "image = cv.imread('img3.jpg')\n",
    "image = cv.cvtColor(image,cv.COLOR_BGR2GRAY)\n",
    "print('The dimensions of the image are :',image.shape)\n",
    "\n",
    "# Image resizing to make processing faster\n",
    "image = cv.resize(image,None, fx = 0.3, fy = 0.3, interpolation = cv.INTER_CUBIC);\n",
    "print(\"The resized image has dimensions \",image.shape)\n",
    "\n",
    "\n",
    "\n",
    "\n",
    "for i in range(11):\n",
    "    for j in range(11):\n",
    "        dog_1[i][j] = gaussian(i-5, j-5, 2.5)\n",
    "        dog_2[i][j] = gaussian(i-5, j-5, 1.5)\n",
    "        \n",
    "dog_1 = dog_1.astype(np.float32)\n",
    "dog_2 = dog_2.astype(np.float32)\n",
    "\n",
    "for i in range(11):\n",
    "    for j in range(11):\n",
    "        diff_of_gauss[i][j] = dog_1[i][j] - dog_2[i][j]\n",
    "print(diff_of_gauss[5][5])\n",
    "diff_of_gauss = diff_of_gauss.astype(np.float32)\n",
    "print(diff_of_gauss[5][5])\n",
    "\n",
    "# This is to ensure that we do normalize -- \n",
    "#diff_of_gauss = diff_of_gauss/diff_of_gauss.sum()\n",
    "print(diff_of_gauss[5][5])\n",
    "\n",
    "# Initializing a 2D Array to accommodate for zero padding for the corner pixels..\n",
    "shap = (image.shape[0]+10, image.shape[1]+10)\n",
    "img_ = np.zeros(shap)\n",
    "temp = 0\n",
    "\n",
    "\n",
    "# Make sure that this has the value of our original image, with padded zeros\n",
    "for i in range(5,shap[0]-5):\n",
    "\tfor j in range(5, shap[1]-5):\n",
    "\t\timg_[i][j]  = image[i-5][j-5]\n",
    "\n",
    "# Final Image to be shown or saved ... Both are done in this implementation\n",
    "image_dog = np.zeros(image.shape)\n",
    "\n",
    "# Convolution of the Image \n",
    "for i1 in range(5,shap[0]-5):\n",
    "\tfor i2 in range(5,shap[1]-5):\n",
    "\t\tfor i in range(11):\n",
    "\t\t\tfor j in range(11):\n",
    "\t\t\t\ttemp+= img_[i1-5+i][i2-5+j]*diff_of_gauss[i][j]\n",
    "\t\t#print(temp)\n",
    "\t\timage_dog[i1-5][i2-5] = temp\n",
    "\t\ttemp = 0\n",
    "\n",
    "#print('Minimum is, Maximum is ',image_dog.min(), image_dog.max())\n",
    "# Saving the image after the Difference of Gaussian Filter is Performed\n",
    "#cv.imwrite('DiffofGauss323.jpg',image_dog)\n",
    "\n",
    "# Now we generate a binary image after perfoming the DOG Operation\n",
    "image_final = np.zeros(image.shape)\n",
    "print(image.shape)\n",
    "for i in range((image.shape[0])):\n",
    "\tfor j in range((image.shape[1])):\n",
    "\t\ttry:\n",
    "\t\t\tif image_dog[i][j]*image_dog[i+1][j]<=0 or image_dog[i][j]*image_dog[i-1][j]<=0 or image_dog[i][j]*image_dog[i][j+1]<=0 or image_dog[i][j]*image_dog[i][j-1]<=0 :\n",
    "\t\t\t\timage_final[i][j] = 255\n",
    "                \n",
    "\t\texcept:\n",
    "\t\t\tcontinue\n",
    "image_final = image_final.astype(np.uint8)\n",
    "#cv.imwrite('Binary_323.jpg', image_final)\n"
   ]
  },
  {
   "cell_type": "code",
   "execution_count": 118,
   "metadata": {},
   "outputs": [
    {
     "data": {
      "text/plain": [
       "1.0"
      ]
     },
     "execution_count": 118,
     "metadata": {},
     "output_type": "execute_result"
    }
   ],
   "source": []
  },
  {
   "cell_type": "code",
   "execution_count": 120,
   "metadata": {
    "scrolled": true
   },
   "outputs": [
    {
     "data": {
      "text/plain": [
       "<matplotlib.image.AxesImage at 0x7f47c96123c8>"
      ]
     },
     "execution_count": 120,
     "metadata": {},
     "output_type": "execute_result"
    },
    {
     "data": {
      "image/png": "[encoded data removed]",
      "text/plain": [
       "<Figure size 720x720 with 1 Axes>"
      ]
     },
     "metadata": {
      "needs_background": "light"
     },
     "output_type": "display_data"
    }
   ],
   "source": [
    "import matplotlib.pyplot as plot1\n",
    "plot1.figure(figsize = (10,10))\n",
    "#plot1.title('My fig')\n",
    "plot1.imshow(image_final, cmap = 'gray')\n",
    "#plt.imshow()"
   ]
  },
  {
   "cell_type": "code",
   "execution_count": 58,
   "metadata": {},
   "outputs": [
    {
     "data": {
      "text/plain": [
       "numpy.float64"
      ]
     },
     "execution_count": 58,
     "metadata": {},
     "output_type": "execute_result"
    }
   ],
   "source": [
    "a = np.zeros((11,11))\n",
    "type(a[0][0])"
   ]
  },
  {
   "cell_type": "code",
   "execution_count": 55,
   "metadata": {},
   "outputs": [
    {
     "data": {
      "text/plain": [
       "array([  0,   0,   0,   0, 255, 255, 255, 255,   0,   0,   0,   0, 255,\n",
       "       255, 255, 255,   0,   0,   0,   0, 255, 255, 255, 255,   0,   0,\n",
       "       255, 255, 255,   0,   0,   0,   0, 255, 255, 255, 255, 255,   0,\n",
       "         0,   0,   0,   0,   0,   0,   0,   0,   0,   0,   0,   0,   0,\n",
       "         0,   0,   0,   0,   0, 255, 255,   0,   0,   0,   0,   0,   0,\n",
       "         0,   0,   0,   0,   0,   0,   0,   0,   0,   0,   0,   0,   0,\n",
       "         0,   0,   0,   0,   0,   0,   0,   0,   0,   0,   0,   0,   0,\n",
       "         0,   0,   0,   0,   0,   0,   0,   0,   0,   0,   0,   0,   0,\n",
       "         0,   0,   0, 255, 255, 255, 255,   0,   0,   0,   0,   0,   0,\n",
       "         0,   0,   0,   0,   0,   0,   0,   0,   0,   0,   0,   0,   0,\n",
       "         0,   0,   0,   0,   0,   0,   0,   0,   0,   0,   0,   0,   0,\n",
       "         0,   0,   0,   0,   0,   0,   0,   0,   0,   0, 255, 255, 255,\n",
       "       255, 255,   0,   0,   0,   0,   0,   0,   0,   0,   0,   0,   0,\n",
       "         0,   0,   0,   0,   0,   0,   0,   0,   0,   0,   0,   0,   0,\n",
       "         0,   0,   0,   0,   0,   0,   0,   0,   0,   0,   0,   0,   0,\n",
       "         0,   0,   0,   0,   0,   0,   0,   0, 255, 255, 255,   0,   0,\n",
       "         0,   0,   0,   0, 255, 255,   0,   0,   0,   0,   0,   0,   0,\n",
       "         0,   0,   0,   0,   0,   0,   0,   0,   0,   0,   0,   0,   0,\n",
       "         0,   0,   0,   0,   0,   0,   0,   0,   0,   0,   0,   0,   0,\n",
       "         0,   0, 255, 255, 255, 255, 255,   0,   0,   0,   0,   0,   0,\n",
       "         0,   0,   0,   0,   0,   0,   0,   0,   0,   0, 255, 255, 255,\n",
       "       255, 255,   0,   0,   0,   0,   0,   0,   0,   0,   0,   0,   0,\n",
       "         0,   0,   0,   0,   0,   0,   0,   0,   0,   0,   0,   0,   0,\n",
       "         0,   0,   0,   0,   0,   0,   0,   0,   0,   0,   0,   0,   0,\n",
       "         0,   0,   0,   0,   0,   0,   0,   0,   0,   0,   0,   0,   0,\n",
       "         0,   0,   0,   0,   0,   0,   0,   0,   0,   0,   0,   0,   0,\n",
       "         0,   0,   0,   0,   0, 255, 255, 255, 255, 255, 255,   0,   0,\n",
       "         0, 255, 255, 255, 255, 255,   0,   0,   0,   0,   0,   0,   0,\n",
       "         0, 255, 255, 255, 255, 255,   0, 255, 255, 255,   0,   0,   0,\n",
       "         0,   0,   0,   0,   0,   0,   0,   0,   0,   0,   0,   0,   0,\n",
       "         0,   0, 255, 255, 255, 255, 255,   0,   0,   0,   0,   0,   0,\n",
       "         0,   0,   0,   0,   0,   0,   0,   0,   0,   0,   0,   0,   0,\n",
       "         0,   0,   0,   0,   0,   0,   0,   0,   0,   0,   0,   0,   0,\n",
       "       255, 255, 255, 255, 255, 255, 255,   0,   0,   0,   0,   0,   0,\n",
       "         0, 255, 255, 255, 255,   0,   0, 255, 255, 255, 255,   0,   0,\n",
       "         0,   0,   0,   0,   0, 255, 255, 255, 255,   0,   0,   0,   0,\n",
       "         0,   0,   0,   0,   0,   0,   0,   0,   0,   0,   0,   0,   0,\n",
       "         0,   0,   0,   0,   0,   0,   0,   0,   0,   0,   0,   0,   0,\n",
       "         0, 255, 255, 255,   0,   0,   0, 255, 255, 255, 255, 255,   0,\n",
       "         0,   0,   0,   0,   0,   0,   0,   0,   0,   0,   0,   0,   0,\n",
       "         0,   0,   0,   0,   0,   0,   0,   0,   0,   0,   0,   0,   0,\n",
       "         0,   0,   0,   0,   0,   0,   0,   0,   0,   0,   0,   0,   0,\n",
       "         0,   0,   0, 255, 255, 255, 255, 255,   0,   0,   0,   0,   0,\n",
       "         0,   0,   0,   0,   0,   0,   0,   0,   0,   0,   0,   0,   0,\n",
       "         0,   0,   0,   0,   0,   0,   0,   0,   0,   0,   0,   0,   0,\n",
       "         0,   0,   0,   0,   0,   0,   0,   0,   0,   0,   0,   0,   0,\n",
       "         0,   0,   0,   0,   0,   0,   0,   0,   0,   0,   0,   0,   0,\n",
       "         0,   0,   0,   0,   0,   0,   0,   0,   0,   0,   0,   0,   0,\n",
       "         0,   0,   0,   0,   0,   0,   0,   0,   0,   0,   0,   0,   0,\n",
       "         0,   0,   0,   0,   0,   0,   0,   0,   0,   0,   0,   0,   0,\n",
       "         0,   0,   0,   0,   0,   0,   0,   0,   0,   0,   0,   0,   0,\n",
       "         0,   0,   0,   0,   0,   0,   0,   0,   0,   0,   0,   0,   0,\n",
       "         0,   0,   0,   0,   0,   0,   0,   0,   0,   0,   0,   0,   0,\n",
       "         0,   0,   0,   0,   0,   0,   0,   0,   0,   0,   0,   0,   0,\n",
       "         0,   0,   0,   0,   0,   0,   0,   0,   0,   0,   0,   0,   0,\n",
       "         0,   0,   0,   0,   0,   0,   0,   0,   0,   0,   0,   0,   0,\n",
       "         0,   0,   0,   0,   0,   0,   0,   0,   0, 255, 255, 255, 255,\n",
       "       255,   0,   0,   0,   0,   0,   0,   0,   0,   0,   0,   0,   0,\n",
       "         0,   0,   0,   0,   0,   0,   0,   0,   0,   0,   0,   0,   0,\n",
       "         0,   0, 255, 255, 255, 255, 255,   0,   0,   0,   0,   0,   0,\n",
       "         0,   0,   0,   0,   0,   0,   0,   0,   0,   0,   0,   0,   0,\n",
       "       255, 255, 255, 255, 255, 255,   0,   0,   0,   0,   0,   0,   0,\n",
       "         0,   0,   0,   0,   0,   0,   0,   0,   0,   0,   0,   0,   0,\n",
       "         0, 255, 255, 255,   0,   0,   0,   0,   0,   0,   0,   0,   0,\n",
       "         0, 255, 255, 255, 255, 255,   0,   0,   0,   0,   0,   0,   0,\n",
       "       255, 255, 255, 255, 255,   0,   0,   0,   0,   0,   0,   0,   0,\n",
       "       255, 255, 255, 255, 255,   0,   0,   0,   0,   0,   0,   0,   0,\n",
       "         0,   0,   0,   0,   0,   0,   0,   0,   0,   0,   0,   0,   0,\n",
       "         0, 255, 255, 255,   0,   0,   0,   0,   0,   0,   0,   0, 255,\n",
       "       255, 255, 255,   0,   0,   0,   0, 255, 255, 255, 255, 255,   0,\n",
       "         0,   0,   0,   0,   0,   0,   0,   0,   0,   0,   0,   0,   0,\n",
       "         0,   0,   0,   0,   0,   0,   0,   0,   0,   0,   0,   0,   0,\n",
       "         0,   0,   0,   0,   0,   0,   0,   0,   0,   0,   0,   0,   0,\n",
       "         0,   0,   0,   0,   0,   0,   0,   0, 255, 255, 255, 255,   0,\n",
       "         0,   0,   0,   0,   0,   0,   0,   0,   0,   0,   0,   0,   0,\n",
       "         0,   0,   0,   0], dtype=uint8)"
      ]
     },
     "execution_count": 55,
     "metadata": {},
     "output_type": "execute_result"
    }
   ],
   "source": [
    "image_final[0]"
   ]
  },
  {
   "cell_type": "code",
   "execution_count": 122,
   "metadata": {},
   "outputs": [
    {
     "data": {
      "text/plain": [
       "(11, 11)"
      ]
     },
     "execution_count": 122,
     "metadata": {},
     "output_type": "execute_result"
    }
   ],
   "source": [
    "diff_of_gauss.shape"
   ]
  },
  {
   "cell_type": "code",
   "execution_count": 130,
   "metadata": {},
   "outputs": [
    {
     "data": {
      "text/plain": [
       "-0.045270739368361346"
      ]
     },
     "execution_count": 130,
     "metadata": {},
     "output_type": "execute_result"
    }
   ],
   "source": [
    "diff_of_gauss.min()"
   ]
  },
  {
   "cell_type": "code",
   "execution_count": 14,
   "metadata": {
    "scrolled": true
   },
   "outputs": [
    {
     "ename": "error",
     "evalue": "OpenCV(3.4.2) /tmp/build/80754af9/opencv-suite_1535558553474/work/modules/highgui/src/window.cpp:632: error: (-2:Unspecified error) The function is not implemented. Rebuild the library with Windows, GTK+ 2.x or Carbon support. If you are on Ubuntu or Debian, install libgtk2.0-dev and pkg-config, then re-run cmake or configure script in function 'cvShowImage'\n",
     "output_type": "error",
     "traceback": [
      "\u001b[0;31m---------------------------------------------------------------------------\u001b[0m",
      "\u001b[0;31merror\u001b[0m                                     Traceback (most recent call last)",
      "\u001b[0;32m<ipython-input-14-02c9838bdd32>\u001b[0m in \u001b[0;36m<module>\u001b[0;34m()\u001b[0m\n\u001b[0;32m----> 1\u001b[0;31m \u001b[0mcv\u001b[0m\u001b[0;34m.\u001b[0m\u001b[0mimshow\u001b[0m\u001b[0;34m(\u001b[0m\u001b[0;34m'img'\u001b[0m\u001b[0;34m,\u001b[0m \u001b[0mimage_final\u001b[0m\u001b[0;34m)\u001b[0m\u001b[0;34m\u001b[0m\u001b[0m\n\u001b[0m",
      "\u001b[0;31merror\u001b[0m: OpenCV(3.4.2) /tmp/build/80754af9/opencv-suite_1535558553474/work/modules/highgui/src/window.cpp:632: error: (-2:Unspecified error) The function is not implemented. Rebuild the library with Windows, GTK+ 2.x or Carbon support. If you are on Ubuntu or Debian, install libgtk2.0-dev and pkg-config, then re-run cmake or configure script in function 'cvShowImage'\n"
     ]
    }
   ],
   "source": [
    "cv.imshow('img', image_final)"
   ]
  },
  {
   "cell_type": "code",
   "execution_count": 30,
   "metadata": {},
   "outputs": [
    {
     "data": {
      "text/plain": [
       "numpy.float32"
      ]
     },
     "execution_count": 30,
     "metadata": {},
     "output_type": "execute_result"
    }
   ],
   "source": [
    "type(diff_of_gauss[0][0])"
   ]
  },
  {
   "cell_type": "code",
   "execution_count": 33,
   "metadata": {},
   "outputs": [
    {
     "data": {
      "text/plain": [
       "-0.09655741"
      ]
     },
     "execution_count": 33,
     "metadata": {},
     "output_type": "execute_result"
    }
   ],
   "source": [
    "diff_of_gauss.min()"
   ]
  },
  {
   "cell_type": "code",
   "execution_count": 59,
   "metadata": {},
   "outputs": [
    {
     "data": {
      "text/plain": [
       "array(3)"
      ]
     },
     "execution_count": 59,
     "metadata": {},
     "output_type": "execute_result"
    }
   ],
   "source": [
    "np.array(3)"
   ]
  },
  {
   "cell_type": "code",
   "execution_count": 60,
   "metadata": {},
   "outputs": [],
   "source": [
    "a  = np.zeros(3)"
   ]
  },
  {
   "cell_type": "code",
   "execution_count": 61,
   "metadata": {},
   "outputs": [
    {
     "data": {
      "text/plain": [
       "array([0., 0., 0.])"
      ]
     },
     "execution_count": 61,
     "metadata": {},
     "output_type": "execute_result"
    }
   ],
   "source": [
    "a"
   ]
  },
  {
   "cell_type": "code",
   "execution_count": null,
   "metadata": {},
   "outputs": [],
   "source": []
  },
  {
   "cell_type": "code",
   "execution_count": 62,
   "metadata": {},
   "outputs": [],
   "source": [
    "a = a.astype(np.float32)"
   ]
  },
  {
   "cell_type": "code",
   "execution_count": 63,
   "metadata": {},
   "outputs": [
    {
     "data": {
      "text/plain": [
       "array([0., 0., 0.], dtype=float32)"
      ]
     },
     "execution_count": 63,
     "metadata": {},
     "output_type": "execute_result"
    }
   ],
   "source": [
    "a"
   ]
  },
  {
   "cell_type": "code",
   "execution_count": 81,
   "metadata": {},
   "outputs": [
    {
     "name": "stdout",
     "output_type": "stream",
     "text": [
      "The dimensions of the image are : (349, 502, 3)\n"
     ]
    },
    {
     "data": {
      "text/plain": [
       "True"
      ]
     },
     "execution_count": 81,
     "metadata": {},
     "output_type": "execute_result"
    }
   ],
   "source": [
    "import numpy as np\n",
    "import cv2 as cv\n",
    "import math\n",
    "\n",
    "# Read the image\n",
    "image = cv.imread('img2.jpg')\n",
    "print('The dimensions of the image are :', image.shape)\n",
    "\n",
    "# Intialise 3 Guassians as per requirement\n",
    "gauss_1 = np.zeros((9,9))\n",
    "gauss_3 = np.zeros((9,9))\n",
    "gauss_20= np.zeros((9,9))\n",
    "\n",
    "# Define the Value of the Gaussian at a given x and y location\n",
    "def gaussian(x,y,sigma):\n",
    "\treturn (math.exp(-(x**2 + y**2)/(2*sigma*sigma)))\n",
    "\n",
    "# Resize the image for faster processing. \n",
    "# Bigger Images take more time\n",
    "\n",
    "#Image resizing to make processing faster\n",
    "if image.shape[0]>1500 and image.shape[1]>750:\n",
    "\timage = cv.resize(image,None, fx = 0.30, fy = 0.30, interpolation = cv.INTER_CUBIC);\n",
    "\tprint(\"The image is big -- resized image has dimensions \",image.shape)\n",
    "\n",
    "# Gaussian Initialisation ( Offset is set to have peak value at the center)\n",
    "for i in range(9):\n",
    "\tfor j in range(9):\n",
    "\t\tgauss_1[i][j] = gaussian(i-4,j-4,1)\n",
    "\t\tgauss_3[i][j] = gaussian(i-4,j-4,3)\n",
    "\t\tgauss_20[i][j] = gaussian(i-4,j-4,20)\n",
    "\n",
    "gauss_1 = gauss_1.astype(np.float32)\n",
    "gauss_3 = gauss_3.astype(np.float32)\n",
    "gauss_20 = gauss_20.astype(np.float32)\n",
    "\n",
    "gauss_1 = gauss_1/gauss_1.sum()\n",
    "gauss_3 = gauss_3/gauss_3.sum()\n",
    "gauss_20 = gauss_20/gauss_20.sum()\n",
    "# Initializing a 2D Array to accommodate for zero padding for the corner pixels..\n",
    "shap = (image.shape[0]+8, image.shape[1]+8, 3)\n",
    "img_ = np.zeros(shap)\n",
    "temp = 0\n",
    "# Make sure that this has the value of our original image, with padded zeros\n",
    "for i in range(4,shap[0]-4):\n",
    "\tfor j in range(4, shap[1]-4):\n",
    "\t\timg_[i][j]  = image[i-4][j-4]\n",
    "\n",
    "# Final Image to be shown or saved ... Both are done in this implementation\n",
    "image_final = np.zeros(image.shape)\n",
    "image_final = image_final.astype(np.float32)\n",
    "\n",
    "# Convolution of the Image \n",
    "\n",
    "# Standard Deviation 1 \n",
    "\n",
    "# Final Image to be shown or saved ... Both are done in this implementation\n",
    "image_final = np.zeros(image.shape)\n",
    "image_final = image_final.astype(np.float32)\n",
    "\n",
    "\n",
    "# Convolution of the Image \n",
    "for i1 in range(4,shap[0]-4):\n",
    "\tfor i2 in range(4,shap[1]-4):\n",
    "\t\tfor k in range(3):\n",
    "\t\t\tfor i in range(9):\n",
    "\t\t\t\tfor j in range(9):\n",
    "\t\t\t\t\ttemp+= img_[i1-4+i][i2-4+j][k]*gauss_1[i][j]\n",
    "\t\t\timage_final[i1-4][i2-4][k] = temp\n",
    "\t\t\ttemp = 0\n",
    "image_final = image_final.astype(np.uint8)\n",
    "cv.imwrite('Q2_STD_1.jpg', image_final)\n",
    "\n",
    "# Standard Deviation 3\n",
    "\n",
    "# Final Image to be shown or saved ... Both are done in this implementation\n",
    "image_final = np.zeros(image.shape)\n",
    "image_final = image_final.astype(np.float32)\n",
    "temp = 0 \n",
    "# Convolution of the Image \n",
    "for i1 in range(4,shap[0]-4):\n",
    "\tfor i2 in range(4,shap[1]-4):\n",
    "\t\tfor k in range(3):\n",
    "\t\t\tfor i in range(9):\n",
    "\t\t\t\tfor j in range(9):\n",
    "\t\t\t\t\ttemp+= img_[i1-4+i][i2-4+j][k]*gauss_3[i][j]\n",
    "\t\t\timage_final[i1-4][i2-4][k] = temp\n",
    "\t\t\ttemp = 0\n",
    "image_final = image_final.astype(np.uint8)\n",
    "cv.imwrite('Q2_std_3.jpg', image_final)\n",
    "\n",
    "# Standard Deviation 20\n",
    "\n",
    "# Final Image to be shown or saved ... Both are done in this implementation\n",
    "image_final = np.zeros(image.shape)\n",
    "\n",
    "\n",
    "# Convolution of the Image \n",
    "for i1 in range(4,shap[0]-4):\n",
    "\tfor i2 in range(4,shap[1]-4):\n",
    "\t\tfor k in range(3):\n",
    "\t\t\tfor i in range(9):\n",
    "\t\t\t\tfor j in range(9):\n",
    "\t\t\t\t\ttemp+= img_[i1-4+i][i2-4+j][k]*gauss_20[i][j]\n",
    "\t\t\timage_final[i1-4][i2-4][k] = temp\n",
    "\t\t\ttemp = 0\n",
    "image_final = image_final.astype(np.uint8)\n",
    "cv.imwrite('Q2_std_20.jpg', image_final)\n",
    "\n",
    "\n"
   ]
  },
  {
   "cell_type": "code",
   "execution_count": 80,
   "metadata": {},
   "outputs": [
    {
     "data": {
      "text/plain": [
       "True"
      ]
     },
     "execution_count": 80,
     "metadata": {},
     "output_type": "execute_result"
    }
   ],
   "source": [
    "cv.imwrite('resized1.jpg',image )"
   ]
  },
  {
   "cell_type": "code",
   "execution_count": null,
   "metadata": {},
   "outputs": [],
   "source": [
    "for i1 in range(4,shap[0]-4):\n",
    "\tfor i2 in range(4,shap[1]-4):\n",
    "\t\tfor k in range(3):\n",
    "\t\t\tfor i in range(9):\n",
    "\t\t\t\tfor j in range(9):\n",
    "\t\t\t\t\ttemp+= img_[i1-4+i][i2-4+j][k]*gauss_3[i][j]\n",
    "\t\t\timage_final[i1-4][i2-4][k] = temp/(gauss_3.sum())\n",
    "\t\t\ttemp = 0\n",
    "cv.imwrite('image_f3.jpg', image_final)\n"
   ]
  },
  {
   "cell_type": "code",
   "execution_count": 82,
   "metadata": {},
   "outputs": [
    {
     "data": {
      "text/plain": [
       "-0.008871092"
      ]
     },
     "execution_count": 82,
     "metadata": {},
     "output_type": "execute_result"
    }
   ],
   "source": [
    "diff_of_gauss[0][0].format"
   ]
  },
  {
   "cell_type": "code",
   "execution_count": 83,
   "metadata": {},
   "outputs": [],
   "source": [
    "from decimal import Decimal"
   ]
  },
  {
   "cell_type": "code",
   "execution_count": 97,
   "metadata": {},
   "outputs": [],
   "source": [
    "a = '%.4E' % Decimal('40800000000.00000000000000')\n"
   ]
  },
  {
   "cell_type": "code",
   "execution_count": 121,
   "metadata": {},
   "outputs": [],
   "source": [
    "file = open('test.txt','w')\n",
    "temp = np.ndarray((11,11))\n",
    "lst = []\n",
    "for i in range(11):\n",
    "    for j in range(11):\n",
    "        lst.append('%.4E'%Decimal(str(diff_of_gauss[i][j])))\n",
    "    for k in lst:\n",
    "        file.write(k + ' ')\n",
    "    file.write('\\n')\n",
    "    lst = []\n",
    "#np.savetxt('test1.txt',temp)"
   ]
  },
  {
   "cell_type": "code",
   "execution_count": 91,
   "metadata": {},
   "outputs": [
    {
     "data": {
      "text/plain": [
       "Decimal('-0.008871092')"
      ]
     },
     "execution_count": 91,
     "metadata": {},
     "output_type": "execute_result"
    }
   ],
   "source": [
    "'%.4E'%Decimal(str(diff_of_gauss[i][j]))"
   ]
  },
  {
   "cell_type": "code",
   "execution_count": 122,
   "metadata": {},
   "outputs": [
    {
     "data": {
      "text/plain": [
       "-0.045270737"
      ]
     },
     "execution_count": 122,
     "metadata": {},
     "output_type": "execute_result"
    }
   ],
   "source": [
    "diff_of_gauss[5][5]"
   ]
  },
  {
   "cell_type": "code",
   "execution_count": null,
   "metadata": {},
   "outputs": [],
   "source": []
  }
 ],
 "metadata": {
  "kernelspec": {
   "display_name": "Python 3",
   "language": "python",
   "name": "python3"
  },
  "language_info": {
   "codemirror_mode": {
    "name": "ipython",
    "version": 3
   },
   "file_extension": ".py",
   "mimetype": "text/x-python",
   "name": "python",
   "nbconvert_exporter": "python",
   "pygments_lexer": "ipython3",
   "version": "3.6.6"
  }
 },
 "nbformat": 4,
 "nbformat_minor": 2
}
