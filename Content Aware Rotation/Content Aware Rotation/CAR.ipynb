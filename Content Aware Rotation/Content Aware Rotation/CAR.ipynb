{
 "cells": [
  {
   "cell_type": "markdown",
   "metadata": {},
   "source": [
    "## Content Aware Rotation - EE645 Course Project - S Deepak Narayanan, 16110142\n",
    "\n",
    "* Input Rotation Angle estimation, given by the authors for 8 images in their dataset.\n",
    "* Line Extraction and Quantization \n",
    "* Energy Function\n",
    "    * Rotation Manipulation\n",
    "    * Line Preservation\n",
    "    * Shape Preservation\n",
    "    * Boundary Preservation\n",
    "* Optimize Energy Function (A linear combination of the four sub-parts) using results from Rotation Angle and Line Extraction and Quantization\n",
    "    * Fix theta, solve for V\n",
    "        * This is itself is not a trivial problem because the authors haven't given their energy function explicitly in terms of standard variables, V and Theta.\n",
    "    * Fix V, solve for theta\n",
    "        * This again is a difficult problem to solve as it involves half-quadratic splitting technique.\n",
    "* Warp the final image using the barycentric coordinates (or) bilinear interpolation.\n",
    "    * Barycentric Coordinates allows me to break every quad into two triangles and then deform the image. \n",
    "    * Any point inside the triangle is a normalized linear combination of the coordinates of the triangle.\n",
    "* Results "
   ]
  },
  {
   "cell_type": "code",
   "execution_count": 1,
   "metadata": {},
   "outputs": [],
   "source": [
    "import cv2 as cv\n",
    "import math\n",
    "import numpy as np"
   ]
  },
  {
   "cell_type": "code",
   "execution_count": 2,
   "metadata": {
    "scrolled": true
   },
   "outputs": [
    {
     "data": {
      "text/plain": [
       "<LineSegmentDetector 0x7f40146001d0>"
      ]
     },
     "execution_count": 2,
     "metadata": {},
     "output_type": "execute_result"
    }
   ],
   "source": [
    "#Reading and Displaying the Image\n",
    "image = cv.imread('Dataset/image1.png')\n",
    "cv.imshow('image.jpg',image)\n",
    "cv.waitKey(0)\n",
    "cv.destroyAllWindows()\n",
    "cv.LineSegmentDetector()"
   ]
  },
  {
   "cell_type": "code",
   "execution_count": 3,
   "metadata": {},
   "outputs": [],
   "source": [
    "## Line Segement Detector \n",
    "# LSD has the Line Segment Detector, using OpenCV's inbuilt function. \n",
    "lsd = (cv.LineSegmentDetector(image))\n",
    "grayscale = cv.cvtColor(image, cv.COLOR_BGR2GRAY)\n",
    "img = grayscale\n",
    "lsd = cv.createLineSegmentDetector(0)\n",
    "lines = lsd.detect(img)[0] \n",
    "drawn_img = lsd.drawSegments(img,lines)"
   ]
  },
  {
   "cell_type": "code",
   "execution_count": 4,
   "metadata": {},
   "outputs": [
    {
     "data": {
      "text/plain": [
       "array([[[486.70825 , 144.50273 , 488.50705 , 164.45326 ]],\n",
       "\n",
       "       [[495.52362 , 285.4758  , 485.77682 , 292.09842 ]],\n",
       "\n",
       "       [[487.84485 , 291.70905 , 486.3272  , 305.70117 ]],\n",
       "\n",
       "       ...,\n",
       "\n",
       "       [[490.6078  ,  79.232544, 474.2938  ,  81.20263 ]],\n",
       "\n",
       "       [[103.92614 , 463.28723 , 100.715935, 479.1403  ]],\n",
       "\n",
       "       [[315.7088  , 394.14926 , 323.524   , 397.05002 ]]], dtype=float32)"
      ]
     },
     "execution_count": 4,
     "metadata": {},
     "output_type": "execute_result"
    }
   ],
   "source": [
    "lines\n",
    "# Displaying the Line Segments Detected in the Image. \n",
    "# This particular part of the Code is showing the coordinates of the Line Segment ((x1,y1),(x2,y2))"
   ]
  },
  {
   "cell_type": "code",
   "execution_count": 5,
   "metadata": {},
   "outputs": [],
   "source": [
    "cv.imshow(\"Image after detecting line segments\",drawn_img)\n",
    "cv.waitKey(0)\n",
    "cv.destroyAllWindows()"
   ]
  },
  {
   "cell_type": "markdown",
   "metadata": {},
   "source": [
    "Here rotated is the angle by which the Image should be rotated so that the current detected line segments, after rotation have angles in the range 0 to 180"
   ]
  },
  {
   "cell_type": "code",
   "execution_count": 6,
   "metadata": {},
   "outputs": [
    {
     "name": "stdout",
     "output_type": "stream",
     "text": [
      "[-6.1, -4.1, -2.0999999999999996, -0.09999999999999964, 1.9000000000000004, 3.9000000000000004, 5.9, 7.9, 9.9, 11.9, 13.9, 15.9, 17.9, 19.9, 21.9, 23.9, 25.9, 27.9, 29.9, 31.9, 33.9, 35.9, 37.9, 39.9, 41.9, 43.9, 45.9, 47.9, 49.9, 51.9, 53.9, 55.9, 57.9, 59.9, 61.9, 63.9, 65.9, 67.9, 69.9, 71.9, 73.9, 75.9, 77.9, 79.9, 81.9, 83.9, 85.9, 87.9, 89.9, 91.9, 93.9, 95.9, 97.9, 99.9, 101.9, 103.9, 105.9, 107.9, 109.9, 111.9, 113.9, 115.9, 117.9, 119.9, 121.9, 123.9, 125.9, 127.9, 129.9, 131.9, 133.9, 135.9, 137.9, 139.9, 141.9, 143.9, 145.9, 147.9, 149.9, 151.9, 153.9, 155.9, 157.9, 159.9, 161.9, 163.9, 165.9, 167.9, 169.9, 171.9, 173.9]\n"
     ]
    }
   ],
   "source": [
    "rotated = -6.1 # Here Rotated refers to the angle to be rotated of the Image.\n",
    "orientations = [rotated + i for i in range(0,181,2)]\n",
    "print(orientations)"
   ]
  },
  {
   "cell_type": "code",
   "execution_count": 7,
   "metadata": {},
   "outputs": [
    {
     "name": "stdout",
     "output_type": "stream",
     "text": [
      "The maximum line orientation and the minimum line orientation angles are  179.97342360244335 0.0\n"
     ]
    }
   ],
   "source": [
    "# Assigning the orientation for each line that we have found so far. \n",
    "# We are essentially ensuring that the orientations all fall within 0 to 180 for our problem.\n",
    "line_orientation = []\n",
    "for i in range(len(lines)):\n",
    "    #print(lines[i])\n",
    "    if lines[i][0][2]>=lines[i][0][0] and lines[i][0][3]>=lines[i][0][1]:\n",
    "        line_orientation.append(math.atan((lines[i][0][2] - lines[i][0][0])/(lines[i][0][3] - lines[i][0][1]))*180/math.pi)\n",
    "    if lines[i][0][2]<=lines[i][0][0] and lines[i][0][3]>=lines[i][0][1]:\n",
    "        line_orientation.append(180+math.atan((lines[i][0][2] - lines[i][0][0])/(lines[i][0][3] - lines[i][0][1]))*180/math.pi)\n",
    "    if lines[i][0][2]<=lines[i][0][0] and lines[i][0][3]<=lines[i][0][1]:\n",
    "        line_orientation.append(math.atan((lines[i][0][2] - lines[i][0][0])/(lines[i][0][3] - lines[i][0][1]))*180/math.pi)\n",
    "    if lines[i][0][2]>=lines[i][0][0] and lines[i][0][3]<=lines[i][0][1]:\n",
    "        line_orientation.append(180 +math.atan((lines[i][0][2] - lines[i][0][0])/(lines[i][0][3] - lines[i][0][1]))*180/math.pi)\n",
    "    if line_orientation[i]>=180:\n",
    "        line_orientation[i]-=180\n",
    "line_orientation = np.asarray(line_orientation)\n",
    "print(\"The maximum line orientation and the minimum line orientation angles are \",line_orientation.max(),line_orientation.min())"
   ]
  },
  {
   "cell_type": "code",
   "execution_count": 8,
   "metadata": {
    "scrolled": true
   },
   "outputs": [],
   "source": [
    "## Putting all the Lines into various different bins here. \n",
    "## This ensures that we actually have put the lines into their quantised bins. Canonical bins to be strictly\n",
    "## rotated by the input angles are also mentioned. Do note that we are stored the \"number\" of the line, as\n",
    "## well as the angle of the line to the corresponding bin.\n",
    "bins = ([[] for i in range(90)])\n",
    "for j in range(len(line_orientation)):\n",
    "    if int(line_orientation[j]%2)==0:\n",
    "        val = int(line_orientation[j])\n",
    "        #print(val)\n",
    "        bin_id = val//2\n",
    "        bins[bin_id].append((j,line_orientation[j]))\n",
    "    else:\n",
    "        #print(val)\n",
    "        val = int(line_orientation[j])\n",
    "        val+=1\n",
    "        bin_id = val//2\n",
    "        if bin_id==90:\n",
    "            bins[bin_id-1].append((j,line_orientation[j]))\n",
    "        else:\n",
    "            bins[bin_id].append((j,line_orientation[j]))"
   ]
  },
  {
   "cell_type": "markdown",
   "metadata": {},
   "source": [
    "Canonical Bins to be rotated by the rotation angle of the image with thier line orientations are displayed here. Note the Line ID with the rotation angle. This is useful in calculating the uk vector while performing line preservation optimization."
   ]
  },
  {
   "cell_type": "code",
   "execution_count": 9,
   "metadata": {
    "scrolled": true
   },
   "outputs": [
    {
     "name": "stdout",
     "output_type": "stream",
     "text": [
      " Canonical Bin 1 is  [(102, 0.5161287068186734), (140, 0.08640833751573601), (201, 0.5783754468532443), (207, 0.22990512135120414), (375, 0.7479750647738719), (432, 0.2243868421236674), (439, 0.31920473455633747), (443, 0.693248351536852), (458, 0.5372871112899574), (469, 0.24694281311870764), (519, 0.649976086804285), (528, 0.8467448836887627), (552, 0.5654079172395385), (593, 0.6568586348912017), (938, 0.7936463001594203), (977, 0.027173428662917408), (978, 0.6353935469482309), (1014, 0.25084216390070974), (1073, 0.4612160104442446), (1159, 0.38724101676303835), (1211, -0.0), (1212, 0.0), (1250, 0.490681280185868), (1507, 0.8856433627039753), (1667, 0.3709780079507967)]\n",
      " Canonical Bin 2 is  [(34, 87.39520809372068), (166, 87.47715147428339), (243, 87.49827000577909), (337, 88.93321705677614), (426, 88.17678933621659), (479, 87.20549008571935), (614, 87.44782410327127), (661, 88.50555383064466), (687, 87.35668201389706), (706, 87.09837649744206), (781, 88.78550697876939), (821, 88.9666689438654), (999, 88.97191417112208), (1083, 87.73183853802537), (1157, 88.72314961157693), (1177, 88.72109805435406), (1206, 87.02243427981634), (1246, 88.41558783943009), (1357, 88.89828620866803), (1422, 88.6699736497007), (1423, 88.69271010949838), (1546, 88.86018562096996)]\n",
      " Canonical Bin 3 is  [(33, 90.19052049686181), (115, 90.73306612020644), (392, 89.46608582503609), (399, 89.85860227466556), (576, 89.42696862458763), (664, 90.4079211700391), (789, 89.94137605240284), (805, 90.09392120210099), (1080, 90.97278778798761), (1160, 89.74967349699807), (1165, 89.97097443129977), (1242, 90.52085637450195), (1271, 90.71770062462686), (1276, 90.09010396360642), (1279, 89.34448325722782), (1301, 89.7556824689279), (1330, 90.76830916487684), (1450, 90.15522802092252), (1570, 90.26181685661264), (1572, 90.74597926979713), (1592, 90.32245704799946), (1612, 90.59239102802664), (1641, 90.51922441670186), (1652, 90.36444358354828), (1679, 89.42363133957339)]\n",
      " Canonical Bin 4 is  [(86, 177.54835913335745), (87, 177.07296135211388), (177, 179.5962442661338), (188, 177.0918945500519), (202, 179.04313090806997), (242, 179.81442155440507), (273, 179.97342360244335), (274, 179.61936921562273), (306, 178.6068422877092), (329, 178.94339209222406), (344, 179.25770114294303), (351, 177.47400679545754), (356, 179.09793301646633), (363, 177.0907274662617), (389, 177.97562724597972), (492, 179.60683102752185), (507, 177.4852237116778), (510, 178.13510174239127), (542, 177.54972224689942), (550, 177.24957336632838), (567, 179.8823909777785), (571, 178.539127133571), (573, 178.85168937432238), (698, 179.28036589067574), (703, 177.47545347578534), (780, 177.46031813407836), (1026, 178.74487009602535), (1028, 179.91351865166348), (1058, 179.32513973825007), (1088, 178.2795813898522), (1112, 177.11550371195784), (1153, 179.57855747482762), (1155, 179.69189350996135), (1161, 179.41206365235325), (1401, 177.32102085344997), (1416, 177.6599300112753), (1675, 179.83610384136088), (1680, 177.38838620894813), (1681, 178.2722190333031)]\n"
     ]
    }
   ],
   "source": [
    "print(\" Canonical Bin 1 is \",bins[0])\n",
    "print(\" Canonical Bin 2 is \",bins[44])\n",
    "print(\" Canonical Bin 3 is \",bins[45])\n",
    "print(\" Canonical Bin 4 is \",bins[89])"
   ]
  },
  {
   "cell_type": "code",
   "execution_count": 10,
   "metadata": {},
   "outputs": [
    {
     "name": "stdout",
     "output_type": "stream",
     "text": [
      " Each Grid Consists of  1296 Pixels\n"
     ]
    }
   ],
   "source": [
    "## Grid Coordinates\n",
    "number_of_squares = 500\n",
    "x = image.shape[0]\n",
    "y = image.shape[1]\n",
    "area_of_image = x*y\n",
    "area_per_square = area_of_image/500\n",
    "side_of_square = int(area_per_square**0.5)\n",
    "print(\" Each Grid Consists of \",side_of_square**2, \"Pixels\")"
   ]
  },
  {
   "cell_type": "code",
   "execution_count": 11,
   "metadata": {},
   "outputs": [],
   "source": [
    "grid_coordinates = []\n",
    "for i in range(x):\n",
    "    for j in range(y):\n",
    "        if i*36<x and j*36<y:\n",
    "            grid_coordinates.append((i*36,j*36))\n",
    "for i in range(len(grid_coordinates)):\n",
    "    temp = []\n",
    "    temp.append(grid_coordinates[i][0])\n",
    "    temp.append(grid_coordinates[i][1])\n",
    "    grid_coordinates.append(np.asarray(temp))\n",
    "grid_coordinates = np.asarray(grid_coordinates)"
   ]
  },
  {
   "cell_type": "code",
   "execution_count": 12,
   "metadata": {},
   "outputs": [
    {
     "name": "stdout",
     "output_type": "stream",
     "text": [
      " Number of Vertices in the Grid is  1080\n"
     ]
    }
   ],
   "source": [
    "# Number of Vertices as used in the programs under the Python Programs in Codes\n",
    "N = len(grid_coordinates) \n",
    "print(' Number of Vertices in the Grid is ',N)"
   ]
  },
  {
   "cell_type": "code",
   "execution_count": 13,
   "metadata": {},
   "outputs": [
    {
     "name": "stdout",
     "output_type": "stream",
     "text": [
      " The initialised values for the thetas  [-6.1, -6.1, -6.1, -6.1, -6.1, -6.1, -6.1, -6.1, -6.1, -6.1, -6.1, -6.1, -6.1, -6.1, -6.1, -6.1, -6.1, -6.1, -6.1, -6.1, -6.1, -6.1, -6.1, -6.1, -6.1, -6.1, -6.1, -6.1, -6.1, -6.1, -6.1, -6.1, -6.1, -6.1, -6.1, -6.1, -6.1, -6.1, -6.1, -6.1, -6.1, -6.1, -6.1, -6.1, -6.1, -6.1, -6.1, -6.1, -6.1, -6.1, -6.1, -6.1, -6.1, -6.1, -6.1, -6.1, -6.1, -6.1, -6.1, -6.1, -6.1, -6.1, -6.1, -6.1, -6.1, -6.1, -6.1, -6.1, -6.1, -6.1, -6.1, -6.1, -6.1, -6.1, -6.1, -6.1, -6.1, -6.1, -6.1, -6.1, -6.1, -6.1, -6.1, -6.1, -6.1, -6.1, -6.1, -6.1, -6.1, -6.1]\n"
     ]
    }
   ],
   "source": [
    "# Initialisation of Theta to be 90 degrees. Note that \n",
    "# this angle rotated is specific only to the above given input image\n",
    "thetas = [rotated for i in range(90)]\n",
    "print(\" The initialised values for the thetas \",thetas)"
   ]
  }
 ],
 "metadata": {
  "kernelspec": {
   "display_name": "Python 3",
   "language": "python",
   "name": "python3"
  },
  "language_info": {
   "codemirror_mode": {
    "name": "ipython",
    "version": 3
   },
   "file_extension": ".py",
   "mimetype": "text/x-python",
   "name": "python",
   "nbconvert_exporter": "python",
   "pygments_lexer": "ipython3",
   "version": "3.6.6"
  }
 },
 "nbformat": 4,
 "nbformat_minor": 2
}
